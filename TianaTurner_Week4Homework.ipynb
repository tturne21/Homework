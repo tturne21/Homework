{
 "cells": [
  {
   "cell_type": "markdown",
   "metadata": {},
   "source": [
    "# _**Tiana Turner Section 4 Homework**_\n",
    "\n",
    "### **1.What does one need to do to use a module?**\n",
    "#### You need to use the import statement (import modulename) to use the module.\n",
    "\n",
    "### **2.Name a Module (not the DateTime Module) we looked at and write a line or 2 of code as an example using this module.**\n",
    "#### Random Module\n",
    "#### import random\n",
    "#### tiana = [\"tall\", 28]\n",
    "#### print(random.choice(tiana))\n",
    "\n",
    "### **3.What is a benefit of using Exception handling?**\n",
    "#### The benefit of using Exception handling like \"try\" stops your program from crashing and keep going past many errors.\n",
    "\n",
    "### **4.What are the 4 components used for Python Exception Handling?**\n",
    "#### Try, except, else, finally\n",
    "\n",
    "### **5.NumPy arrays are like what Python data type?**\n",
    "#### Numpy arrays are like List.\n",
    "\n",
    "### **6.What is one of the main benefits of using NumPy arrays.**\n",
    "#### Arrays occupy less memory \n",
    "\n",
    "### **7.What is one of the main requirements about the 'dtype' of NumPy arrays?**\n",
    "#### You need to use the 'dtype' keyword to explicitly specify the data type you want.\n",
    "\n",
    "### **8.Of the 10 uses of NumPy, name 2.**\n",
    "#### Mathematical operations and broadcasting\n",
    "\n",
    "### **9.Name one of the other libraries we'll use with NumPy?**\n",
    "#### Matplotlib\n",
    "\n",
    "### **10.What is the shape of NumPy arrays?**\n",
    "#### The shape is a tuple of non-negative integers that specify the dimensions, length and size of each array (3,2,4).\n",
    "\n",
    "### **11.What is a Tensor?**\n",
    "#### An array with 3+ dimensions.\n",
    "\n",
    "### **12.Name a reason why it's better using NumPy for Data Analysis than using a Python List?**\n",
    "#### Numpy would run faster with big sets of data. \n",
    "\n",
    "### **13.When creating an \"empty\" array, where do the elements come from?**\n",
    "#### Elements will come from the memory allocated for the array."
   ]
  },
  {
   "cell_type": "code",
   "execution_count": 3,
   "metadata": {},
   "outputs": [
    {
     "name": "stdout",
     "output_type": "stream",
     "text": [
      "Renting a car is more affordable\n"
     ]
    }
   ],
   "source": [
    "# 1.Create an if statement: if 'age' is greater than or equal to 25, print \"Renting a car is more affordable\", however if 'age' is less than 25, print \"Renting a car is very expensive.\"\n",
    "\n",
    "age = int(input(\"your age\"))\n",
    "\n",
    "if age >= 25:\n",
    "    print(\"Renting a car is more affordable\")\n",
    "else:\n",
    "    print(\"Renting a car is very expensive\")"
   ]
  },
  {
   "cell_type": "code",
   "execution_count": 7,
   "metadata": {},
   "outputs": [
    {
     "name": "stdout",
     "output_type": "stream",
     "text": [
      "Renting a car is more affordable\n"
     ]
    }
   ],
   "source": [
    "# 2.Create and chain an if-else statement: if 'age' is greater than or equal to 25, print \"Renting a car is more affordable.\" If 'age' is less than 25 but greater than or equal to 18, print \"Renting a car is very expensive.\" Finally, if age is less than 18, print \"You cannot legally rent a car.\"\n",
    "\n",
    "age = int(input(\"your age\"))\n",
    "\n",
    "if age >= 25:\n",
    "    print(\"Renting a car is more affordable\")\n",
    "else:\n",
    "    if 18 <= age < 25:\n",
    "        print(\"Renting a car is very expensive\")\n",
    "    else:\n",
    "        print(\"You cannot legally rent a car\")"
   ]
  },
  {
   "cell_type": "code",
   "execution_count": 10,
   "metadata": {},
   "outputs": [
    {
     "name": "stdout",
     "output_type": "stream",
     "text": [
      "43\n",
      "e u i o o u o e e a o "
     ]
    }
   ],
   "source": [
    "# 3.Loop over the following string to (1) count all the characters in the string and (2) print out all the vowels -- \"The quick brown fox jumps over the lazy dog\"\n",
    "\n",
    "string = \"The quick brown fox jumps over the lazy dog\"\n",
    "count1 = len(string)\n",
    "vowels = [\"a\", \"e\", \"i\", \"o\", \"u\"]\n",
    "count = 0\n",
    "print(count1)\n",
    "for vowel in string:\n",
    "        if vowel in vowels:\n",
    "                print(vowel, end = \" \")\n"
   ]
  },
  {
   "cell_type": "code",
   "execution_count": 6,
   "metadata": {},
   "outputs": [
    {
     "name": "stdout",
     "output_type": "stream",
     "text": [
      "trousers Dark Sapphire, trousers maple, trousers auburn, trousers aqua, trousers burnt sienna, trousers cerise, trousers gunmetal blue, trousers fuchsia, \n",
      "blouse Dark Sapphire, blouse maple, blouse auburn, blouse aqua, blouse burnt sienna, blouse cerise, blouse gunmetal blue, blouse fuchsia, \n",
      "bandana Dark Sapphire, bandana maple, bandana auburn, bandana aqua, bandana burnt sienna, bandana cerise, bandana gunmetal blue, bandana fuchsia, \n",
      "cumber band Dark Sapphire, cumber band maple, cumber band auburn, cumber band aqua, cumber band burnt sienna, cumber band cerise, cumber band gunmetal blue, cumber band fuchsia, \n",
      "blazer Dark Sapphire, blazer maple, blazer auburn, blazer aqua, blazer burnt sienna, blazer cerise, blazer gunmetal blue, blazer fuchsia, \n",
      "vest Dark Sapphire, vest maple, vest auburn, vest aqua, vest burnt sienna, vest cerise, vest gunmetal blue, vest fuchsia, \n",
      "french beret Dark Sapphire, french beret maple, french beret auburn, french beret aqua, french beret burnt sienna, french beret cerise, french beret gunmetal blue, french beret fuchsia, \n",
      "scarf Dark Sapphire, scarf maple, scarf auburn, scarf aqua, scarf burnt sienna, scarf cerise, scarf gunmetal blue, scarf fuchsia, \n",
      "stole Dark Sapphire, stole maple, stole auburn, stole aqua, stole burnt sienna, stole cerise, stole gunmetal blue, stole fuchsia, \n"
     ]
    }
   ],
   "source": [
    "# 4.Write a nested loop that prints out every piece of clothing from the couture list, in every fashionable color from the panettone set: couture = [\"trousers\", \"blouse\", \"bandana\", \"cumber band\", \"blazer\", \"vest\", \"french beret\", \"scarf\", \"stole\"] and panettone = {\"cerise\", \"fuchsia\", \"aqua\", \"maple\", \"auburn\", \"burnt sienna\", \"gunmetal blue\", \"Dark Sapphire\"}\n",
    "\n",
    "couture = [\"trousers\", \"blouse\", \"bandana\", \"cumber band\", \"blazer\", \"vest\", \"french beret\", \"scarf\", \"stole\"]\n",
    "panettone = {\"cerise\", \"fuchsia\", \"aqua\", \"maple\", \"auburn\", \"burnt sienna\", \"gunmetal blue\", \"Dark Sapphire\"}\n",
    "\n",
    "for x in couture:\n",
    "    for y in panettone:\n",
    "        print(x, y, end = \", \")\n",
    "    print()"
   ]
  },
  {
   "cell_type": "code",
   "execution_count": 6,
   "metadata": {},
   "outputs": [
    {
     "name": "stdout",
     "output_type": "stream",
     "text": [
      "5050\n"
     ]
    }
   ],
   "source": [
    "# 5.Use range as a loop to calculate the sum of all the numbers from 1 to 100\n",
    "\n",
    "sum = 0\n",
    "\n",
    "for num in range(1,101):\n",
    "    sum += num\n",
    "print(sum)"
   ]
  },
  {
   "cell_type": "code",
   "execution_count": 22,
   "metadata": {},
   "outputs": [
    {
     "name": "stdout",
     "output_type": "stream",
     "text": [
      "banana\n"
     ]
    }
   ],
   "source": [
    "# 6.Print the second item in this fruits list. [\"apple\", \"banana\", \"cherry\"]\n",
    "\n",
    "fruits = [\"apple\", \"banana\", \"cherry\"]\n",
    "count = 0\n",
    "for fruit in fruits:\n",
    "    count += 1\n",
    "    if count == 2:\n",
    "        print(fruit)"
   ]
  },
  {
   "cell_type": "code",
   "execution_count": 59,
   "metadata": {},
   "outputs": [
    {
     "name": "stdout",
     "output_type": "stream",
     "text": [
      "['kiwi', 'banana', 'cherry']\n"
     ]
    }
   ],
   "source": [
    "# 7.Change the value from \"apple\" to \"kiwi\", in the fruits list. [\"apple\", \"banana\", \"cherry\"]\n",
    "\n",
    "fruits2 = [\"apple\", \"banana\", \"cherry\"]\n",
    "fruits2[0] = \"kiwi\"\n",
    "print(fruits2)\n"
   ]
  },
  {
   "cell_type": "code",
   "execution_count": 60,
   "metadata": {},
   "outputs": [
    {
     "name": "stdout",
     "output_type": "stream",
     "text": [
      "['apple', 'banana', 'cherry', 'orange']\n"
     ]
    }
   ],
   "source": [
    "# 8.Use the append method to add \"orange\" to the fruits list. [\"apple\", \"banana\", \"cherry\"]\n",
    "\n",
    "fruits3 = [\"apple\", \"banana\", \"cherry\"]\n",
    "fruits3.append(\"orange\")\n",
    "print(fruits3)"
   ]
  },
  {
   "cell_type": "code",
   "execution_count": 61,
   "metadata": {},
   "outputs": [
    {
     "name": "stdout",
     "output_type": "stream",
     "text": [
      "['apple', 'lemon', 'banana', 'cherry']\n"
     ]
    }
   ],
   "source": [
    "# 9.Use the insert method to add \"lemon\" as the second item in the fruits list. [\"apple\", \"banana\", \"cherry\"]\n",
    "\n",
    "fruits4 = [\"apple\", \"banana\", \"cherry\"]\n",
    "fruits4.insert(1, \"lemon\")\n",
    "print(fruits4)"
   ]
  },
  {
   "cell_type": "code",
   "execution_count": 62,
   "metadata": {},
   "outputs": [
    {
     "name": "stdout",
     "output_type": "stream",
     "text": [
      "['apple', 'cherry']\n"
     ]
    }
   ],
   "source": [
    "# 10.Use the remove method to remove \"banana\" from the fruits list. [\"apple\", \"banana\", \"cherry\"]\n",
    "\n",
    "fruits5 = [\"apple\", \"banana\", \"cherry\"]\n",
    "fruits5.remove (\"banana\")\n",
    "print(fruits5)"
   ]
  },
  {
   "cell_type": "code",
   "execution_count": 70,
   "metadata": {},
   "outputs": [
    {
     "name": "stdout",
     "output_type": "stream",
     "text": [
      "melon kiwi\n"
     ]
    }
   ],
   "source": [
    "# 11.Use negative indexing to print the 3rd and 2nd to last items in the list. [\"apple\", \"banana\", \"cherry\", \"orange\", \"kiwi\", \"melon\", \"mango\"]\n",
    "\n",
    "fruits6 = [\"apple\", \"banana\", \"cherry\", \"orange\", \"kiwi\", \"melon\", \"mango\"]\n",
    "print(fruits6[-2],fruits6[-3])"
   ]
  },
  {
   "cell_type": "code",
   "execution_count": 72,
   "metadata": {},
   "outputs": [
    {
     "name": "stdout",
     "output_type": "stream",
     "text": [
      "['cherry', 'orange', 'kiwi']\n"
     ]
    }
   ],
   "source": [
    "# 12.Use a range of indexes to print the third, fourth, and fifth item in the list. [\"apple\", \"banana\", \"cherry\", \"orange\", \"kiwi\", \"melon\", \"mango\"]\n",
    "\n",
    "fruits7 = [\"apple\", \"banana\", \"cherry\", \"orange\", \"kiwi\", \"melon\", \"mango\"]\n",
    "print(fruits7[2:5])"
   ]
  },
  {
   "cell_type": "code",
   "execution_count": 74,
   "metadata": {},
   "outputs": [
    {
     "name": "stdout",
     "output_type": "stream",
     "text": [
      "7\n"
     ]
    }
   ],
   "source": [
    "# 13.Use the correct syntax to print the number of items in the list. [\"apple\", \"banana\", \"cherry\", \"orange\", \"kiwi\", \"melon\", \"mango\"]\n",
    "\n",
    "fruits8 = [\"apple\", \"banana\", \"cherry\", \"orange\", \"kiwi\", \"melon\", \"mango\"]\n",
    "print(len(fruits8))"
   ]
  },
  {
   "cell_type": "code",
   "execution_count": 80,
   "metadata": {},
   "outputs": [
    {
     "name": "stdout",
     "output_type": "stream",
     "text": [
      "['orange', 'melon', 'mango', 'kiwi', 'cherry', 'banana', 'apple']\n"
     ]
    }
   ],
   "source": [
    "# 14.Use the correct syntax to sort this list in reverse order [\"apple\", \"banana\", \"cherry\", \"orange\", \"kiwi\", \"melon\", \"mango\"]\n",
    "\n",
    "fruits9 = [\"apple\", \"banana\", \"cherry\", \"orange\", \"kiwi\", \"melon\", \"mango\"]\n",
    "fruits9.sort(reverse=True)\n",
    "print(fruits9)"
   ]
  },
  {
   "cell_type": "code",
   "execution_count": 57,
   "metadata": {},
   "outputs": [
    {
     "name": "stdout",
     "output_type": "stream",
     "text": [
      "October\n"
     ]
    }
   ],
   "source": [
    "# 15.Use the DateTime module to get Current Date and Time, and save it to a variable. Then extract just the Full month name form that variable.\n",
    "\n",
    "import datetime\n",
    "\n",
    "month = datetime.datetime.now()\n",
    "print(month.strftime(\"%B\"))\n"
   ]
  },
  {
   "cell_type": "code",
   "execution_count": 84,
   "metadata": {},
   "outputs": [
    {
     "name": "stdout",
     "output_type": "stream",
     "text": [
      "Hi Tiana ! Happy Sunday !\n",
      "Hi Shante ! Happy Monday !\n"
     ]
    }
   ],
   "source": [
    "# 16.Write a simple function that takes 2 parameters -- a first name and a day name.\n",
    "def nameday(fname, dayname = \"Sunday\"):\n",
    "    print(\"Hi\",fname,\"! Happy\",dayname,\"!\")\n",
    "    \n",
    "nameday('Tiana')\n",
    "nameday('Shante','Monday')"
   ]
  },
  {
   "cell_type": "code",
   "execution_count": 85,
   "metadata": {},
   "outputs": [
    {
     "name": "stdout",
     "output_type": "stream",
     "text": [
      "Tiana\n",
      "nothing is wrong\n",
      "Tiana Turner\n"
     ]
    }
   ],
   "source": [
    "# 17.Write a block of code to handle one of the most common Python exception errors. Select one of the common errors from the curriculum section on Python Exception handling. Have your code example uses the try,except, else, and finally components.\n",
    "\n",
    "Name = \"Tiana\"\n",
    "\n",
    "try:\n",
    "    print(Name)\n",
    "except:\n",
    "    print(\"something went wrong\")\n",
    "else:\n",
    "    print(\"nothing is wrong\")\n",
    "finally:\n",
    "    print(Name +\" Turner\")\n",
    "    "
   ]
  }
 ],
 "metadata": {
  "kernelspec": {
   "display_name": "Python 3",
   "language": "python",
   "name": "python3"
  },
  "language_info": {
   "codemirror_mode": {
    "name": "ipython",
    "version": 3
   },
   "file_extension": ".py",
   "mimetype": "text/x-python",
   "name": "python",
   "nbconvert_exporter": "python",
   "pygments_lexer": "ipython3",
   "version": "3.11.5"
  }
 },
 "nbformat": 4,
 "nbformat_minor": 2
}
