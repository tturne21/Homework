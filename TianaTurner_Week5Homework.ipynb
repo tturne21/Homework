{
 "cells": [
  {
   "cell_type": "code",
   "execution_count": null,
   "metadata": {},
   "outputs": [],
   "source": []
  },
  {
   "cell_type": "markdown",
   "metadata": {},
   "source": [
    "# _**Tiana Turner Section 5 Homework**_\n",
    "\n",
    "### **1. What does Pandas stand for?**\n",
    "#### Panel data or Python data analysis\n",
    "\n",
    "### **2. What are the 2 collections used in Pandas?**\n",
    "#### Series and Dataframes\n",
    "\n",
    "### **3. Name 4 things Pandas can do for us.**\n",
    "#### load, manipulate, analyze, model\n",
    "\n",
    "### **4. To permanently sort a DataFrame, which keyword should one use with the `df.sort()` method?**\n",
    "#### inplace = True\n",
    "\n",
    "### **5. What is a CSV?**\n",
    "#### It is a comma seperated file that contains plain text with a format that can be read by everyone including pandas.\n",
    "\n",
    "### **6. When cleaning data what values do we not like in our data?**\n",
    "#### Null values, duplicate values, incorrect values\n"
   ]
  },
  {
   "cell_type": "code",
   "execution_count": 52,
   "metadata": {},
   "outputs": [
    {
     "data": {
      "text/plain": [
       "array([[[ 0,  1],\n",
       "        [ 2,  3],\n",
       "        [ 4,  5]],\n",
       "\n",
       "       [[ 6,  7],\n",
       "        [ 8,  9],\n",
       "        [10, 11]]])"
      ]
     },
     "execution_count": 52,
     "metadata": {},
     "output_type": "execute_result"
    }
   ],
   "source": [
    "#7. Import NumPy, use one of the NumPy methods and create an array with a shape of (2, 3, 2). You can use the reshape method -- `.reshape()`\n",
    "\n",
    "import numpy as np\n",
    "\n",
    "a_1 = np.arange(12).reshape((2, 3, 2))\n",
    "a_1"
   ]
  },
  {
   "cell_type": "code",
   "execution_count": 108,
   "metadata": {},
   "outputs": [
    {
     "data": {
      "text/plain": [
       "array([ 0.,  4.,  8., 12., 16., 20.])"
      ]
     },
     "execution_count": 108,
     "metadata": {},
     "output_type": "execute_result"
    }
   ],
   "source": [
    "#8. Use NumPy `.linspace()` to create an array with 6 linearly spaced values between 0 and 20\n",
    "\n",
    "lin = np.linspace(0, 20, num=6)\n",
    "lin"
   ]
  },
  {
   "cell_type": "code",
   "execution_count": 41,
   "metadata": {},
   "outputs": [
    {
     "data": {
      "text/plain": [
       "array([ 0.,  4.,  8., 12., 16., 20.])"
      ]
     },
     "execution_count": 41,
     "metadata": {},
     "output_type": "execute_result"
    }
   ],
   "source": [
    "#9. Make a Deep Copy of the above array\n",
    "\n",
    "import copy\n",
    "\n",
    "lin = np.linspace(0, 20, num=6)\n",
    "lin2 = copy.deepcopy(lin)\n",
    "\n",
    "lin2\n"
   ]
  },
  {
   "cell_type": "code",
   "execution_count": 107,
   "metadata": {},
   "outputs": [
    {
     "name": "stdout",
     "output_type": "stream",
     "text": [
      "[[ 7 81]\n",
      " [ 5  6]\n",
      " [11 12]\n",
      " [25 16]\n",
      " [11  2]\n",
      " [13  4]]\n",
      "[[ 7 81]\n",
      " [ 5  6]\n",
      " [11 12]\n",
      " [16 25]\n",
      " [ 2 11]\n",
      " [ 4 13]]\n"
     ]
    }
   ],
   "source": [
    "#10. Concatenate these 3 arrays into a new array named 'newArray'...\n",
    "\n",
    "a_x=np.array([[25, 16]])\n",
    "a_y=np.array([[11, 2], [13, 4]])\n",
    "a_z=np.array([[7, 81], [5, 6], [11, 12]])\n",
    "\n",
    "newArray = np.concatenate((a_z, a_x, a_y), axis=0)\n",
    "print(newArray)\n",
    "\n",
    "#11. Sort 'newArray' in order into 'sortedArray'\n",
    "\n",
    "sortedArray = np.sort(newArray)\n",
    "print (sortedArray)\n"
   ]
  },
  {
   "cell_type": "code",
   "execution_count": 106,
   "metadata": {},
   "outputs": [
    {
     "name": "stdout",
     "output_type": "stream",
     "text": [
      "[0 1 2]\n",
      "[3 4 5]\n",
      "[6 7 8]\n",
      "[ 9 10 11]\n"
     ]
    }
   ],
   "source": [
    "#12. Unpack the array tuples from the above 'reshapedArray'  into 4 well named variables. Print the 4 variables.\n",
    "reshape_a1 = a_1.reshape(4,3)\n",
    "\n",
    "a, b, c, d = reshape_a1\n",
    "\n",
    "print(a)\n",
    "print(b)\n",
    "print(c)\n",
    "print(d)\n",
    "\n"
   ]
  },
  {
   "cell_type": "code",
   "execution_count": 105,
   "metadata": {},
   "outputs": [
    {
     "name": "stdout",
     "output_type": "stream",
     "text": [
      "[ 0  1  2  3  4  5  6  7 10 11 12 13 14 15 16 17 20 21 22 23 24 25 26 27]\n",
      "[1]\n",
      "[ 2  3  4  5  6  7 10 11 12 13 14 15 16 17 20 21 22 23 24 25 26 27]\n",
      "[ 3  4  5  6  7 10 11 12 13 14 15]\n",
      "[22 23 24 25 26 27]\n",
      "[ 0  1  2  3  4  5  6  7 10 11 12 13 14 15 16 17]\n",
      "[ 0  2  4  6 10 12 14 16 20 22 24 26]\n",
      "[27 22 15 10  3]\n"
     ]
    }
   ],
   "source": [
    "#13. Combine and sort the following arrays into one called 'comboArray' ...\n",
    "\n",
    "one = np.array([10, 11, 12, 13, 14, 15, 16, 17])\n",
    "two = np.array([20, 21, 22, 23, 24, 25, 26, 27])\n",
    "three = np.array([ 0, 1, 2, 3, 4, 5, 6, 7])\n",
    "\n",
    "comboArray = np.concatenate([three, one, two])\n",
    "\n",
    "print(comboArray)\n",
    "\n",
    "#14. Take 'comboArray' and perform the following slicing activities:\n",
    "\n",
    "#- print sec1 - the 2nd element\n",
    "print(comboArray[1:2])\n",
    "    \n",
    "#- print sec2 - all elements from the 3rd element to the last\n",
    "print(comboArray[2:])\n",
    "    \n",
    "#- print sec3 - all elements from the 4th to the 14th elements\n",
    "print(comboArray[3:14])\n",
    "    \n",
    "#- print sec4 - the last 6 elements\n",
    "print(comboArray[18:])\n",
    "    \n",
    "#- print sec5 - all element from #0 up to and including #15, using the negative number method, i.e. taking a section from the end.\n",
    "print(comboArray[-24:-8])\n",
    "    \n",
    "#- print sec6 - from #20 every even element to the end\n",
    "print(comboArray[::2])\n",
    "    \n",
    "#- print sec7 - from the last element moving backward, every 5th element.\n",
    "print(comboArray[-1::-5])\n",
    "    "
   ]
  },
  {
   "cell_type": "code",
   "execution_count": null,
   "metadata": {},
   "outputs": [],
   "source": []
  },
  {
   "cell_type": "code",
   "execution_count": 111,
   "metadata": {},
   "outputs": [
    {
     "data": {
      "text/html": [
       "<div>\n",
       "<style scoped>\n",
       "    .dataframe tbody tr th:only-of-type {\n",
       "        vertical-align: middle;\n",
       "    }\n",
       "\n",
       "    .dataframe tbody tr th {\n",
       "        vertical-align: top;\n",
       "    }\n",
       "\n",
       "    .dataframe thead th {\n",
       "        text-align: right;\n",
       "    }\n",
       "</style>\n",
       "<table border=\"1\" class=\"dataframe\">\n",
       "  <thead>\n",
       "    <tr style=\"text-align: right;\">\n",
       "      <th></th>\n",
       "      <th>Ingredients</th>\n",
       "      <th>Quantity</th>\n",
       "      <th>Unit</th>\n",
       "    </tr>\n",
       "  </thead>\n",
       "  <tbody>\n",
       "    <tr>\n",
       "      <th>0</th>\n",
       "      <td>Flour</td>\n",
       "      <td>4</td>\n",
       "      <td>cups</td>\n",
       "    </tr>\n",
       "    <tr>\n",
       "      <th>1</th>\n",
       "      <td>Milk</td>\n",
       "      <td>1</td>\n",
       "      <td>cup</td>\n",
       "    </tr>\n",
       "    <tr>\n",
       "      <th>2</th>\n",
       "      <td>Eggs</td>\n",
       "      <td>2</td>\n",
       "      <td>large</td>\n",
       "    </tr>\n",
       "    <tr>\n",
       "      <th>3</th>\n",
       "      <td>Spam</td>\n",
       "      <td>1</td>\n",
       "      <td>can</td>\n",
       "    </tr>\n",
       "  </tbody>\n",
       "</table>\n",
       "</div>"
      ],
      "text/plain": [
       "  Ingredients  Quantity   Unit\n",
       "0       Flour         4   cups\n",
       "1        Milk         1    cup\n",
       "2        Eggs         2  large\n",
       "3        Spam         1    can"
      ]
     },
     "execution_count": 111,
     "metadata": {},
     "output_type": "execute_result"
    }
   ],
   "source": [
    "#15. Using `Series`, create a `DataFrame` that looks like this:\n",
    "import pandas as pd\n",
    "\n",
    "Ingredients = pd.Series([\"Flour\", \"Milk\", \"Eggs\", \"Spam\"], name='Ingredients')\n",
    "Quantity = pd.Series([4, 1, 2, 1], name= 'Quantity')\n",
    "Unit = pd.Series([\"cups\", \"cup\", \"large\", \"can\"], name='Unit')\n",
    "\n",
    "Dinner=pd.concat([Ingredients, Quantity, Unit], axis=1)\n",
    "\n",
    "Dinner"
   ]
  },
  {
   "cell_type": "code",
   "execution_count": 121,
   "metadata": {},
   "outputs": [
    {
     "data": {
      "text/html": [
       "<div>\n",
       "<style scoped>\n",
       "    .dataframe tbody tr th:only-of-type {\n",
       "        vertical-align: middle;\n",
       "    }\n",
       "\n",
       "    .dataframe tbody tr th {\n",
       "        vertical-align: top;\n",
       "    }\n",
       "\n",
       "    .dataframe thead th {\n",
       "        text-align: right;\n",
       "    }\n",
       "</style>\n",
       "<table border=\"1\" class=\"dataframe\">\n",
       "  <thead>\n",
       "    <tr style=\"text-align: right;\">\n",
       "      <th></th>\n",
       "      <th>Name</th>\n",
       "      <th>Height</th>\n",
       "      <th>Qualification</th>\n",
       "      <th>address</th>\n",
       "      <th>Age</th>\n",
       "      <th>Pets</th>\n",
       "      <th>sport</th>\n",
       "      <th>desert</th>\n",
       "    </tr>\n",
       "  </thead>\n",
       "  <tbody>\n",
       "    <tr>\n",
       "      <th>2</th>\n",
       "      <td>Gaurav</td>\n",
       "      <td>5.1</td>\n",
       "      <td>Msc</td>\n",
       "      <td>Chennai</td>\n",
       "      <td>24</td>\n",
       "      <td>Chinchilla</td>\n",
       "      <td>PaddleBoarding</td>\n",
       "      <td>waffels</td>\n",
       "    </tr>\n",
       "    <tr>\n",
       "      <th>3</th>\n",
       "      <td>Anuj</td>\n",
       "      <td>5.2</td>\n",
       "      <td>Msc</td>\n",
       "      <td>Dakhar</td>\n",
       "      <td>21</td>\n",
       "      <td>Parrot</td>\n",
       "      <td>Cricket</td>\n",
       "      <td>Carrot Halwa</td>\n",
       "    </tr>\n",
       "    <tr>\n",
       "      <th>0</th>\n",
       "      <td>Jai</td>\n",
       "      <td>5.1</td>\n",
       "      <td>Msc</td>\n",
       "      <td>Delhi</td>\n",
       "      <td>21</td>\n",
       "      <td>Dog</td>\n",
       "      <td>Darts</td>\n",
       "      <td>ice cream</td>\n",
       "    </tr>\n",
       "    <tr>\n",
       "      <th>1</th>\n",
       "      <td>janusha</td>\n",
       "      <td>6.2</td>\n",
       "      <td>MA</td>\n",
       "      <td>Doha</td>\n",
       "      <td>23</td>\n",
       "      <td>Bunny</td>\n",
       "      <td>Basketball</td>\n",
       "      <td>Cashew Fudge</td>\n",
       "    </tr>\n",
       "  </tbody>\n",
       "</table>\n",
       "</div>"
      ],
      "text/plain": [
       "      Name  Height Qualification  address  Age        Pets           sport  \\\n",
       "2   Gaurav     5.1           Msc  Chennai   24  Chinchilla  PaddleBoarding   \n",
       "3     Anuj     5.2           Msc   Dakhar   21      Parrot         Cricket   \n",
       "0      Jai     5.1           Msc    Delhi   21         Dog           Darts   \n",
       "1  janusha     6.2            MA     Doha   23       Bunny      Basketball   \n",
       "\n",
       "         desert  \n",
       "2       waffels  \n",
       "3  Carrot Halwa  \n",
       "0     ice cream  \n",
       "1  Cashew Fudge  "
      ]
     },
     "execution_count": 121,
     "metadata": {},
     "output_type": "execute_result"
    }
   ],
   "source": [
    "#16. Take this data and create a DataFrame named studentData\n",
    "\n",
    "Data ={'Name': ['Jai', 'janusha', 'Gaurav', 'Anuj'], \n",
    "              'Height': [5.1, 6.2, 5.1, 5.2], \n",
    "              'Qualification': ['Msc', 'MA', 'Msc', 'Msc'], \n",
    "              'address': ['Delhi', 'Doha', 'Chennai', 'Dakhar'], \n",
    "              'Age': [21, 23, 24, 21], \n",
    "              'Pets': ['Dog', 'Bunny', 'Chinchilla', 'Parrot'], \n",
    "              'sport': ['Darts', 'Basketball', 'PaddleBoarding', 'Cricket']}\n",
    "\n",
    "studentData =pd.DataFrame(Data)\n",
    "\n",
    "#17. Add a new column to the DataFrame with the following deserts:\n",
    "deserts= [\"ice cream\", \"Cashew Fudge\", \"waffels\", \"Carrot Halwa\"]\n",
    "\n",
    "studentData['desert']= deserts\n",
    "\n",
    "#18. Sort the 'studentData' DataFrame in Ascending order -- Sorting by column 'Name' and then \"address\"\n",
    "\n",
    "studentData.sort_values(by = ['address', 'Name'], inplace=True)\n",
    "\n",
    "studentData"
   ]
  },
  {
   "cell_type": "code",
   "execution_count": 133,
   "metadata": {},
   "outputs": [],
   "source": [
    "#19. Save this `DataFrame` here below to disc as a `.CSV` file with the name `cows_and_goats.csv`:\n",
    "\n",
    "df = pd.DataFrame({'Cows': [12, 20], 'Goats': [22, 19]}, index=['Year 1', 'Year 2'])\n",
    "\n",
    "df.to_csv('cows_and_goats.csv')\n",
    "\n"
   ]
  },
  {
   "cell_type": "code",
   "execution_count": 132,
   "metadata": {},
   "outputs": [],
   "source": [
    "#20. (A) Using Pandas, make your own .CSV file with data on vegetables and save it. \n",
    "\n",
    "vegetables = pd.DataFrame([['green', 'broccoli'], ['red', 'bell pepper']], columns= ['color', 'name'])\n",
    "\n",
    "vegetables.to_csv('Vegetable_colors.csv')\n",
    "\n",
    "# (B) Using Pandas, make a change to your CSV file, and save a copy with a different name.\n",
    "\n",
    "vege_C = pd.read_csv('Vegetable_colors.csv')\n",
    "\n",
    "vege_C = vegetables.replace(to_replace='broccoli', value='asparagus')\n",
    "\n",
    "vege_C.to_csv('Vegetable_Change.csv')"
   ]
  }
 ],
 "metadata": {
  "kernelspec": {
   "display_name": "Python 3",
   "language": "python",
   "name": "python3"
  },
  "language_info": {
   "codemirror_mode": {
    "name": "ipython",
    "version": 3
   },
   "file_extension": ".py",
   "mimetype": "text/x-python",
   "name": "python",
   "nbconvert_exporter": "python",
   "pygments_lexer": "ipython3",
   "version": "3.11.5"
  }
 },
 "nbformat": 4,
 "nbformat_minor": 2
}
