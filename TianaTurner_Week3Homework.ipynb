{
 "cells": [
  {
   "cell_type": "markdown",
   "metadata": {},
   "source": [
    "# Python Homework (Data Types)\n",
    "\n",
    "### 1. What is an algorithm?\n",
    "#### It is a series of steps to solve a problem.\n",
    "\n",
    "### 2. Variable names may not start with certain characters - name two.\n",
    "#### It cannot start with a number or special characters other than underscore.\n",
    "\n",
    "### 3. What is a Semantic error?\n",
    "#### The code is grammatically correct, but doesn't make sense. It doesn't produce the expected results.\n",
    "\n",
    "### 4. What is the #1 rule of coding / debugging?\n",
    "#### Complexity is the enemy of efficiency\n",
    "\n",
    "### 5. List 5 Python reserved words.\n",
    "#### Or, True, False, If, As\n"
   ]
  },
  {
   "cell_type": "code",
   "execution_count": 23,
   "metadata": {},
   "outputs": [
    {
     "name": "stdout",
     "output_type": "stream",
     "text": [
      "multi line\n",
      "\n",
      "My name is Tiana.\n",
      "My favorite food is pasta.\n",
      "My dream job is Data Analyst.\n"
     ]
    }
   ],
   "source": [
    "### 6. Write a multi-line comment with your name, favorite food, and dream job on 3 different lines\n",
    "\n",
    "string = f\"\"\"\n",
    "My name is Tiana.\n",
    "My favorite food is pasta.\n",
    "My dream job is Data Analyst.\"\"\"\n",
    "\n",
    "print('multi line')\n",
    "print(string)"
   ]
  },
  {
   "cell_type": "code",
   "execution_count": 13,
   "metadata": {},
   "outputs": [
    {
     "name": "stdout",
     "output_type": "stream",
     "text": [
      "5\n",
      "a\n"
     ]
    }
   ],
   "source": [
    "### 7. Assign 5 different data types to 5 different variables. At least one datatype must be a string\n",
    "\n",
    "name2 = \"Tiana\"\n",
    "age2 = 28\n",
    "weight = 160.5\n",
    "skills = [\"sql\", \"python\", \"tableau\"]\n",
    "girl = True\n",
    "\n",
    "\n",
    "print(len(name2))\n",
    "print(name2[4])\n"
   ]
  },
  {
   "cell_type": "code",
   "execution_count": 6,
   "metadata": {},
   "outputs": [
    {
     "name": "stdout",
     "output_type": "stream",
     "text": [
      "ing Data Analytics\n",
      "Learning Data Analytics and Python is Awesome!\n",
      "Learning Data Analytics and Python is great!\n",
      "yes Python in savvy\n"
     ]
    }
   ],
   "source": [
    "### 8. Create a new variable called savvy, and assign it the string with this phrase \"Learning Data Analytics and Python is Awesome!\"\n",
    "\n",
    "savvy = \"Learning Data Analytics and Python is Awesome!\"\n",
    "\n",
    "print(savvy[5:23])\n",
    "\n",
    "newstring =savvy.replace(\"Awesome\", \"great\")\n",
    "\n",
    "print(savvy, newstring, sep='\\n')\n",
    "\n",
    "if \"Python\" in savvy:\n",
    "    print(\"yes Python in savvy\")"
   ]
  },
  {
   "cell_type": "code",
   "execution_count": 22,
   "metadata": {},
   "outputs": [
    {
     "name": "stdout",
     "output_type": "stream",
     "text": [
      "Hi my name is Tiana, I am tall and 28 years old today\n",
      "28.0\n"
     ]
    }
   ],
   "source": [
    "### 9. Create and assign 3 more variables called name, age and length using the multi-variable naming method\n",
    "\n",
    "name, age, length = \"Tiana\", \"28\", \"tall\"\n",
    "miniBio = (f\"Hi my name is {name}, I am {length} and {age} years old today\")\n",
    "\n",
    "print(miniBio)\n",
    "\n",
    "age = float(28)\n",
    "print(age)"
   ]
  },
  {
   "cell_type": "code",
   "execution_count": 1,
   "metadata": {},
   "outputs": [
    {
     "name": "stdout",
     "output_type": "stream",
     "text": [
      "6\n",
      "[('five', 'ten', 'twenty'), False, 'money']\n",
      "['washington', 'jefferson', 'jackson', 'hamilton', 'benjamin']\n",
      "[('five', 'ten', 'twenty'), False, 'money', 'washington', 'jefferson', 'jackson', 'hamilton', 'benjamin']\n"
     ]
    }
   ],
   "source": [
    "### 10. Create a list of at least 5 elements of mixed data types\n",
    "\n",
    "moneylist = [\"dime\", .25, 1, (\"five\", \"ten\", \"twenty\"), False]\n",
    "moneylist[2] = 50\n",
    "moneylist.append(\"money\")\n",
    "listlength = len(moneylist)\n",
    "print(listlength)\n",
    "\n",
    "import copy\n",
    "moneylist2 = copy.deepcopy(moneylist[3:6])\n",
    "print(moneylist2)\n",
    "\n",
    "moneylist.extend(moneylist2)\n",
    "simList = [\"benjamin\", \"hamilton\", \"jackson\", \"washington\", \"jefferson\"]\n",
    "simList.sort(reverse=True)\n",
    "print(simList)\n",
    "\n",
    "simList2 = copy.deepcopy(simList)\n",
    "\n",
    "moneysim = moneylist2 + simList2\n",
    "print(moneysim)\n"
   ]
  },
  {
   "cell_type": "code",
   "execution_count": 51,
   "metadata": {},
   "outputs": [
    {
     "name": "stdout",
     "output_type": "stream",
     "text": [
      "reeses\n",
      "['biscoff', 'biscoff', 'biscoff', 'reeses', 'reeses', 'reeses', 'snickers', 'snickers', 'snickers', 'talenti', 'talenti', 'talenti', 'turkey hill', 'turkey hill', 'turkey hill']\n",
      "biscoff\n",
      "snickers\n",
      "reeses\n",
      "talenti\n",
      "(50,)\n",
      "('biscoff', 'snickers', 'reeses', 'talenti', 'turkey hill', 'biscoff', 'snickers', 'reeses', 'talenti', 'turkey hill', 'biscoff', 'snickers', 'reeses', 'talenti', 'turkey hill', 'biscoff', 'snickers', 'reeses', 'talenti')\n"
     ]
    }
   ],
   "source": [
    "### 11. Create a tuple of about 5 elements\n",
    "\n",
    "icecream = (\"biscoff\", \"snickers\", \"reeses\", \"talenti\", \"turkey hill\")\n",
    "icecream2 = icecream * 3\n",
    "print(icecream2[12])\n",
    "print(sorted(icecream2))\n",
    "\n",
    "import copy\n",
    "icecream3 = copy.deepcopy(icecream2[:4])\n",
    "(brown, white, orange, black) = icecream3\n",
    "print(brown)\n",
    "print(white)\n",
    "print(orange)\n",
    "print(black)\n",
    "\n",
    "icecream4 = (50,)\n",
    "print(icecream4)\n",
    "\n",
    "icecream5 = icecream2 + icecream3\n",
    "print(icecream5)\n",
    "\n"
   ]
  },
  {
   "cell_type": "code",
   "execution_count": 64,
   "metadata": {},
   "outputs": [
    {
     "name": "stdout",
     "output_type": "stream",
     "text": [
      "{'grape', 6, 'orange', 17, 'apple', 22}\n",
      "{'tissue', 'towel'}\n",
      "set()\n",
      "{'sheet', 'grape', 6, 'orange', 17, 'apple', 'nissan', 'towel'}\n"
     ]
    }
   ],
   "source": [
    "### 12. Create a set of about 3 elements\n",
    "\n",
    "favnums = {17, 6, 22}\n",
    "fruits = [\"orange\", \"apple\", \"grape\"]\n",
    "favnums.update(fruits)\n",
    "print(favnums)\n",
    "\n",
    "favnums.add(\"nissan\")\n",
    "odd = {\"tissue\", \"sheet\",\"towel\"}\n",
    "favodds = favnums.union(odd)\n",
    "\n",
    "odd.pop()\n",
    "print(odd)\n",
    "\n",
    "favnums.clear()\n",
    "print(favnums)\n",
    "\n",
    "favodds.discard(\"tissue\")\n",
    "favodds.remove(22)\n",
    "print(favodds)"
   ]
  },
  {
   "cell_type": "code",
   "execution_count": 79,
   "metadata": {},
   "outputs": [
    {
     "name": "stdout",
     "output_type": "stream",
     "text": [
      "nissan\n",
      "dict_keys(['brand', 'year', 'miles', 'black', 'inside', 'fav color', 'specials'])\n",
      "dict_values(['Tiana', 2018, 45.5, False, ['black', 'blue'], 'orange', ('bluetooth', 'carplay', 'camera')])\n",
      "{'brand': 'Tiana', 'year': 2018, 'black': False, 'inside': ['black', 'blue'], 'fav color': 'orange', 'specials': ('bluetooth', 'carplay', 'camera')}\n",
      "{}\n"
     ]
    }
   ],
   "source": [
    "### 13. Create a dictionary with at least 5 values of different data types\n",
    "\n",
    "mycar = {\"brand\" : \"nissan\", \"year\" : 2018, \"miles\" : 45.5, \"black\" : False, \"inside\" : [\"black\", \"blue\"]}\n",
    "print(mycar[\"brand\"])\n",
    "\n",
    "mycar[\"brand\"] = \"Tiana\"\n",
    "mycar[\"fav color\"] = \"orange\"\n",
    "mycar.update({\"specials\": (\"bluetooth\", \"carplay\", \"camera\")})\n",
    "x = mycar.keys()\n",
    "y = mycar.values()\n",
    "print(x)\n",
    "print(y)\n",
    "\n",
    "mycar2 = mycar.copy()\n",
    "mycar2.pop(\"miles\")\n",
    "print(mycar2)\n",
    "\n",
    "mycar2.clear()\n",
    "print(mycar2)"
   ]
  }
 ],
 "metadata": {
  "kernelspec": {
   "display_name": "Python 3",
   "language": "python",
   "name": "python3"
  },
  "language_info": {
   "codemirror_mode": {
    "name": "ipython",
    "version": 3
   },
   "file_extension": ".py",
   "mimetype": "text/x-python",
   "name": "python",
   "nbconvert_exporter": "python",
   "pygments_lexer": "ipython3",
   "version": "3.11.5"
  }
 },
 "nbformat": 4,
 "nbformat_minor": 2
}
